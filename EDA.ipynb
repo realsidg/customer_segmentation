{
 "cells": [
  {
   "cell_type": "code",
   "execution_count": 64,
   "metadata": {},
   "outputs": [],
   "source": [
    "import pandas as pd\n",
    "import seaborn as sns\n",
    "import numpy as np\n",
    "import matplotlib.pyplot as plt"
   ]
  },
  {
   "cell_type": "code",
   "execution_count": 115,
   "metadata": {},
   "outputs": [],
   "source": [
    "user_transactions = pd.read_pickle('cleaned_user_transactions.pkl')"
   ]
  },
  {
   "cell_type": "code",
   "execution_count": 116,
   "metadata": {},
   "outputs": [
    {
     "data": {
      "text/html": [
       "<div>\n",
       "<style scoped>\n",
       "    .dataframe tbody tr th:only-of-type {\n",
       "        vertical-align: middle;\n",
       "    }\n",
       "\n",
       "    .dataframe tbody tr th {\n",
       "        vertical-align: top;\n",
       "    }\n",
       "\n",
       "    .dataframe thead th {\n",
       "        text-align: right;\n",
       "    }\n",
       "</style>\n",
       "<table border=\"1\" class=\"dataframe\">\n",
       "  <thead>\n",
       "    <tr style=\"text-align: right;\">\n",
       "      <th></th>\n",
       "      <th>AverageCPI</th>\n",
       "      <th>TotalTransactions</th>\n",
       "      <th>TotalMonetary</th>\n",
       "      <th>MostRecentTransaction</th>\n",
       "      <th>MorningTransactions</th>\n",
       "      <th>AfternoonTransactions</th>\n",
       "      <th>EveningTransactions</th>\n",
       "      <th>NightTransactions</th>\n",
       "      <th>WeekendTransactions</th>\n",
       "      <th>WeekdayTransactions</th>\n",
       "      <th>CostPerTransaction</th>\n",
       "    </tr>\n",
       "    <tr>\n",
       "      <th>UserId</th>\n",
       "      <th></th>\n",
       "      <th></th>\n",
       "      <th></th>\n",
       "      <th></th>\n",
       "      <th></th>\n",
       "      <th></th>\n",
       "      <th></th>\n",
       "      <th></th>\n",
       "      <th></th>\n",
       "      <th></th>\n",
       "      <th></th>\n",
       "    </tr>\n",
       "  </thead>\n",
       "  <tbody>\n",
       "    <tr>\n",
       "      <th>259266.0</th>\n",
       "      <td>1.440000</td>\n",
       "      <td>2</td>\n",
       "      <td>0.00</td>\n",
       "      <td>2018-04-01 06:17:00</td>\n",
       "      <td>1.000000</td>\n",
       "      <td>0.000</td>\n",
       "      <td>0.0</td>\n",
       "      <td>0.000000</td>\n",
       "      <td>1.000000</td>\n",
       "      <td>0.000000</td>\n",
       "      <td>0.000000</td>\n",
       "    </tr>\n",
       "    <tr>\n",
       "      <th>259287.0</th>\n",
       "      <td>3.532115</td>\n",
       "      <td>7</td>\n",
       "      <td>35759.40</td>\n",
       "      <td>2028-02-18 10:57:00</td>\n",
       "      <td>0.857143</td>\n",
       "      <td>0.000</td>\n",
       "      <td>0.0</td>\n",
       "      <td>0.142857</td>\n",
       "      <td>0.428571</td>\n",
       "      <td>0.571429</td>\n",
       "      <td>5108.485714</td>\n",
       "    </tr>\n",
       "    <tr>\n",
       "      <th>259308.0</th>\n",
       "      <td>1.179594</td>\n",
       "      <td>4</td>\n",
       "      <td>11982.24</td>\n",
       "      <td>2018-12-07 09:13:00</td>\n",
       "      <td>0.750000</td>\n",
       "      <td>0.250</td>\n",
       "      <td>0.0</td>\n",
       "      <td>0.000000</td>\n",
       "      <td>0.750000</td>\n",
       "      <td>0.250000</td>\n",
       "      <td>2995.560000</td>\n",
       "    </tr>\n",
       "    <tr>\n",
       "      <th>259329.0</th>\n",
       "      <td>5.853333</td>\n",
       "      <td>1</td>\n",
       "      <td>12087.84</td>\n",
       "      <td>2019-02-02 05:51:00</td>\n",
       "      <td>0.000000</td>\n",
       "      <td>0.000</td>\n",
       "      <td>0.0</td>\n",
       "      <td>1.000000</td>\n",
       "      <td>1.000000</td>\n",
       "      <td>0.000000</td>\n",
       "      <td>12087.840000</td>\n",
       "    </tr>\n",
       "    <tr>\n",
       "      <th>259350.0</th>\n",
       "      <td>2.186875</td>\n",
       "      <td>1</td>\n",
       "      <td>2443.20</td>\n",
       "      <td>2018-04-16 12:01:00</td>\n",
       "      <td>0.000000</td>\n",
       "      <td>1.000</td>\n",
       "      <td>0.0</td>\n",
       "      <td>0.000000</td>\n",
       "      <td>0.000000</td>\n",
       "      <td>1.000000</td>\n",
       "      <td>2443.200000</td>\n",
       "    </tr>\n",
       "    <tr>\n",
       "      <th>...</th>\n",
       "      <td>...</td>\n",
       "      <td>...</td>\n",
       "      <td>...</td>\n",
       "      <td>...</td>\n",
       "      <td>...</td>\n",
       "      <td>...</td>\n",
       "      <td>...</td>\n",
       "      <td>...</td>\n",
       "      <td>...</td>\n",
       "      <td>...</td>\n",
       "      <td>...</td>\n",
       "    </tr>\n",
       "    <tr>\n",
       "      <th>383880.0</th>\n",
       "      <td>6.583000</td>\n",
       "      <td>1</td>\n",
       "      <td>1497.30</td>\n",
       "      <td>2018-05-19 05:52:00</td>\n",
       "      <td>0.000000</td>\n",
       "      <td>0.000</td>\n",
       "      <td>0.0</td>\n",
       "      <td>1.000000</td>\n",
       "      <td>1.000000</td>\n",
       "      <td>0.000000</td>\n",
       "      <td>1497.300000</td>\n",
       "    </tr>\n",
       "    <tr>\n",
       "      <th>383901.0</th>\n",
       "      <td>7.762857</td>\n",
       "      <td>1</td>\n",
       "      <td>669.60</td>\n",
       "      <td>2018-08-24 06:53:00</td>\n",
       "      <td>1.000000</td>\n",
       "      <td>0.000</td>\n",
       "      <td>0.0</td>\n",
       "      <td>0.000000</td>\n",
       "      <td>1.000000</td>\n",
       "      <td>0.000000</td>\n",
       "      <td>669.600000</td>\n",
       "    </tr>\n",
       "    <tr>\n",
       "      <th>383922.0</th>\n",
       "      <td>4.858190</td>\n",
       "      <td>3</td>\n",
       "      <td>1466.10</td>\n",
       "      <td>2019-02-13 07:43:00</td>\n",
       "      <td>1.000000</td>\n",
       "      <td>0.000</td>\n",
       "      <td>0.0</td>\n",
       "      <td>0.000000</td>\n",
       "      <td>0.333333</td>\n",
       "      <td>0.666667</td>\n",
       "      <td>488.700000</td>\n",
       "    </tr>\n",
       "    <tr>\n",
       "      <th>383943.0</th>\n",
       "      <td>2.324517</td>\n",
       "      <td>16</td>\n",
       "      <td>17340.72</td>\n",
       "      <td>2019-02-17 08:02:00</td>\n",
       "      <td>0.875000</td>\n",
       "      <td>0.125</td>\n",
       "      <td>0.0</td>\n",
       "      <td>0.000000</td>\n",
       "      <td>0.375000</td>\n",
       "      <td>0.625000</td>\n",
       "      <td>1083.795000</td>\n",
       "    </tr>\n",
       "    <tr>\n",
       "      <th>384027.0</th>\n",
       "      <td>1.756707</td>\n",
       "      <td>3</td>\n",
       "      <td>15258.24</td>\n",
       "      <td>2019-01-09 05:29:00</td>\n",
       "      <td>0.666667</td>\n",
       "      <td>0.000</td>\n",
       "      <td>0.0</td>\n",
       "      <td>0.333333</td>\n",
       "      <td>0.333333</td>\n",
       "      <td>0.666667</td>\n",
       "      <td>5086.080000</td>\n",
       "    </tr>\n",
       "  </tbody>\n",
       "</table>\n",
       "<p>4363 rows × 11 columns</p>\n",
       "</div>"
      ],
      "text/plain": [
       "          AverageCPI  TotalTransactions  TotalMonetary MostRecentTransaction  \\\n",
       "UserId                                                                         \n",
       "259266.0    1.440000                  2           0.00   2018-04-01 06:17:00   \n",
       "259287.0    3.532115                  7       35759.40   2028-02-18 10:57:00   \n",
       "259308.0    1.179594                  4       11982.24   2018-12-07 09:13:00   \n",
       "259329.0    5.853333                  1       12087.84   2019-02-02 05:51:00   \n",
       "259350.0    2.186875                  1        2443.20   2018-04-16 12:01:00   \n",
       "...              ...                ...            ...                   ...   \n",
       "383880.0    6.583000                  1        1497.30   2018-05-19 05:52:00   \n",
       "383901.0    7.762857                  1         669.60   2018-08-24 06:53:00   \n",
       "383922.0    4.858190                  3        1466.10   2019-02-13 07:43:00   \n",
       "383943.0    2.324517                 16       17340.72   2019-02-17 08:02:00   \n",
       "384027.0    1.756707                  3       15258.24   2019-01-09 05:29:00   \n",
       "\n",
       "          MorningTransactions  AfternoonTransactions  EveningTransactions  \\\n",
       "UserId                                                                      \n",
       "259266.0             1.000000                  0.000                  0.0   \n",
       "259287.0             0.857143                  0.000                  0.0   \n",
       "259308.0             0.750000                  0.250                  0.0   \n",
       "259329.0             0.000000                  0.000                  0.0   \n",
       "259350.0             0.000000                  1.000                  0.0   \n",
       "...                       ...                    ...                  ...   \n",
       "383880.0             0.000000                  0.000                  0.0   \n",
       "383901.0             1.000000                  0.000                  0.0   \n",
       "383922.0             1.000000                  0.000                  0.0   \n",
       "383943.0             0.875000                  0.125                  0.0   \n",
       "384027.0             0.666667                  0.000                  0.0   \n",
       "\n",
       "          NightTransactions  WeekendTransactions  WeekdayTransactions  \\\n",
       "UserId                                                                  \n",
       "259266.0           0.000000             1.000000             0.000000   \n",
       "259287.0           0.142857             0.428571             0.571429   \n",
       "259308.0           0.000000             0.750000             0.250000   \n",
       "259329.0           1.000000             1.000000             0.000000   \n",
       "259350.0           0.000000             0.000000             1.000000   \n",
       "...                     ...                  ...                  ...   \n",
       "383880.0           1.000000             1.000000             0.000000   \n",
       "383901.0           0.000000             1.000000             0.000000   \n",
       "383922.0           0.000000             0.333333             0.666667   \n",
       "383943.0           0.000000             0.375000             0.625000   \n",
       "384027.0           0.333333             0.333333             0.666667   \n",
       "\n",
       "          CostPerTransaction  \n",
       "UserId                        \n",
       "259266.0            0.000000  \n",
       "259287.0         5108.485714  \n",
       "259308.0         2995.560000  \n",
       "259329.0        12087.840000  \n",
       "259350.0         2443.200000  \n",
       "...                      ...  \n",
       "383880.0         1497.300000  \n",
       "383901.0          669.600000  \n",
       "383922.0          488.700000  \n",
       "383943.0         1083.795000  \n",
       "384027.0         5086.080000  \n",
       "\n",
       "[4363 rows x 11 columns]"
      ]
     },
     "execution_count": 116,
     "metadata": {},
     "output_type": "execute_result"
    }
   ],
   "source": [
    "user_transactions"
   ]
  },
  {
   "cell_type": "code",
   "execution_count": null,
   "metadata": {},
   "outputs": [],
   "source": [
    "user_transactions[''.idxmax(axis=1)"
   ]
  },
  {
   "cell_type": "code",
   "execution_count": 75,
   "metadata": {},
   "outputs": [],
   "source": [
    "CPI = pd.DataFrame(user_transactions['AverageCPI'])"
   ]
  },
  {
   "cell_type": "code",
   "execution_count": 139,
   "metadata": {},
   "outputs": [
    {
     "data": {
      "image/png": "[encoded data removed]",
      "text/plain": [
       "<Figure size 432x288 with 1 Axes>"
      ]
     },
     "metadata": {},
     "output_type": "display_data"
    }
   ],
   "source": [
    "def cpi_category(x):\n",
    "    if x < 2:\n",
    "        return \"Cheap Product Buyers (0<Cost<2)\"\n",
    "    elif x < 5:\n",
    "        return \"Medium Cost Product Buyers (2<Cost<5)\"\n",
    "    elif x < 10:\n",
    "        return \"Expensive Cost Product Buyers (5<Cost<10)\"\n",
    "    else:\n",
    "        return \"Luxury Product Buyers (Cost>10)\"\n",
    "\n",
    "CPI['Category'] = CPI['AverageCPI'].apply(lambda x: cpi_category(x))\n",
    "CPI['Category'].value_counts().plot(kind='pie', label='')\n",
    "plt.title('Price Category of products preferred', fontsize=20)\n",
    "plt.show()"
   ]
  },
  {
   "cell_type": "code",
   "execution_count": 96,
   "metadata": {},
   "outputs": [
    {
     "data": {
      "text/plain": [
       "count    4.363000e+03\n",
       "mean     3.443458e+04\n",
       "std      1.234347e+06\n",
       "min     -9.876960e+03\n",
       "25%      2.443530e+03\n",
       "50%      5.360400e+03\n",
       "75%      1.325463e+04\n",
       "max      8.142170e+07\n",
       "Name: TotalMonetary, dtype: float64"
      ]
     },
     "execution_count": 96,
     "metadata": {},
     "output_type": "execute_result"
    }
   ],
   "source": [
    "user_transactions['TotalMonetary'].describe()"
   ]
  },
  {
   "cell_type": "code",
   "execution_count": 112,
   "metadata": {},
   "outputs": [
    {
     "data": {
      "text/plain": [
       "AverageCPI               1336\n",
       "TotalTransactions        1336\n",
       "TotalMonetary            1336\n",
       "MostRecentTransaction    1336\n",
       "MorningTransactions      1336\n",
       "AfternoonTransactions    1336\n",
       "EveningTransactions      1336\n",
       "NightTransactions        1336\n",
       "WeekendTransactions      1336\n",
       "WeekdayTransactions      1336\n",
       "CostPerTransaction       1336\n",
       "dtype: int64"
      ]
     },
     "execution_count": 112,
     "metadata": {},
     "output_type": "execute_result"
    }
   ],
   "source": [
    "user_transactions[(user_transactions.TotalMonetary < 15000) & (user_transactions.TotalMonetary > 5000)].count()"
   ]
  },
  {
   "cell_type": "code",
   "execution_count": 138,
   "metadata": {},
   "outputs": [
    {
     "data": {
      "image/png": "[encoded data removed]",
      "text/plain": [
       "<Figure size 432x288 with 1 Axes>"
      ]
     },
     "metadata": {},
     "output_type": "display_data"
    }
   ],
   "source": [
    "def spend_category(x):\n",
    "    if x < 1000:\n",
    "        return \"Low income customers (<1000)\"\n",
    "    elif x < 5000:\n",
    "        return \"Average income customers (1000<Spent<5000)\"\n",
    "    elif x < 20000:\n",
    "        return \"High income customers (5000<Spent<20000)\"\n",
    "    else:\n",
    "        return \"Luxury income customers (Spent>20000)\"\n",
    "    \n",
    "user_transactions['MonetaryCategory'] = user_transactions['TotalMonetary'].apply(lambda x: spend_category(x))\n",
    "user_transactions['MonetaryCategory'].value_counts().plot(kind='pie', label='')\n",
    "plt.title('Total Money Spent', fontsize=20)\n",
    "plt.show()"
   ]
  },
  {
   "cell_type": "code",
   "execution_count": 142,
   "metadata": {},
   "outputs": [
    {
     "data": {
      "image/png": "[encoded data removed]",
      "text/plain": [
       "<Figure size 1440x288 with 1 Axes>"
      ]
     },
     "metadata": {
      "needs_background": "light"
     },
     "output_type": "display_data"
    }
   ],
   "source": [
    "plt.figure(figsize=(20,4))\n",
    "sns.countplot(user_transactions['TotalTransactions'])\n",
    "plt.title('Transaction frequencies of customers', fontsize=20)\n",
    "plt.show()"
   ]
  },
  {
   "cell_type": "code",
   "execution_count": 123,
   "metadata": {},
   "outputs": [
    {
     "data": {
      "text/plain": [
       "UserId\n",
       "259266.0      MorningTransactions\n",
       "259287.0      MorningTransactions\n",
       "259308.0      MorningTransactions\n",
       "259329.0        NightTransactions\n",
       "259350.0    AfternoonTransactions\n",
       "                    ...          \n",
       "383880.0        NightTransactions\n",
       "383901.0      MorningTransactions\n",
       "383922.0      MorningTransactions\n",
       "383943.0      MorningTransactions\n",
       "384027.0      MorningTransactions\n",
       "Length: 4363, dtype: object"
      ]
     },
     "execution_count": 123,
     "metadata": {},
     "output_type": "execute_result"
    }
   ],
   "source": []
  },
  {
   "cell_type": "code",
   "execution_count": 135,
   "metadata": {},
   "outputs": [
    {
     "data": {
      "image/png": "[encoded data removed]",
      "text/plain": [
       "<Figure size 432x288 with 1 Axes>"
      ]
     },
     "metadata": {},
     "output_type": "display_data"
    }
   ],
   "source": [
    "user_transactions['TimeCategory'] = user_transactions[[\"MorningTransactions\", \"AfternoonTransactions\", 'EveningTransactions', 'NightTransactions']].idxmax(axis=1)\n",
    "user_transactions['TimeCategory'].value_counts().plot(kind='pie', label='')\n",
    "plt.title('Preferred Time of the Day', fontsize=15)\n",
    "plt.show()"
   ]
  },
  {
   "cell_type": "code",
   "execution_count": 140,
   "metadata": {},
   "outputs": [
    {
     "data": {
      "image/png": "[encoded data removed]",
      "text/plain": [
       "<Figure size 432x288 with 1 Axes>"
      ]
     },
     "metadata": {},
     "output_type": "display_data"
    }
   ],
   "source": [
    "user_transactions['DayCategory'] = user_transactions[['WeekendTransactions', 'WeekdayTransactions']].idxmax(axis=1)\n",
    "user_transactions['DayCategory'].value_counts().plot(kind='pie', label='')\n",
    "plt.title('Preferred Day of the Week', fontsize=15)\n",
    "plt.show()"
   ]
  },
  {
   "cell_type": "code",
   "execution_count": null,
   "metadata": {},
   "outputs": [],
   "source": []
  }
 ],
 "metadata": {
  "kernelspec": {
   "display_name": "Python 3",
   "language": "python",
   "name": "python3"
  },
  "language_info": {
   "codemirror_mode": {
    "name": "ipython",
    "version": 3
   },
   "file_extension": ".py",
   "mimetype": "text/x-python",
   "name": "python",
   "nbconvert_exporter": "python",
   "pygments_lexer": "ipython3",
   "version": "3.7.0"
  }
 },
 "nbformat": 4,
 "nbformat_minor": 4
}
